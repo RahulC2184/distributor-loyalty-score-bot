{
  "cells": [
    {
      "cell_type": "code",
      "execution_count": null,
      "metadata": {
        "id": "VPOh3m2631eu"
      },
      "outputs": [],
      "source": [
        "#!pip install -U scikit-learn imbalanced-learn xgboost pandas numpy requests\n",
        "\n"
      ]
    },
    {
      "cell_type": "code",
      "execution_count": null,
      "metadata": {
        "id": "nrP-I7yK47H2"
      },
      "outputs": [],
      "source": [
        "import pandas as pd\n",
        "import numpy as np\n",
        "import joblib\n",
        "import requests\n",
        "from sklearn.model_selection import train_test_split\n",
        "from imblearn.over_sampling import SMOTE\n",
        "import xgboost as xgb\n",
        "import os\n"
      ]
    },
    {
      "cell_type": "code",
      "execution_count": null,
      "metadata": {
        "id": "G-QAmbTI4-Sc"
      },
      "outputs": [],
      "source": [
        "df = pd.read_csv(\"distributor_dataset.csv\")\n",
        "\n",
        "def compute_loyalty(df):\n",
        "    df = df.copy()\n",
        "    df[\"Loyalty_Score\"] = (\n",
        "        df[\"Sales_Quantity\"] * 0.3 +\n",
        "        df[\"Reward_Points\"] * 0.002 +\n",
        "        df[\"Inventory_Level\"] * 0.1 -\n",
        "        df[\"Churn_Probability\"] * 50 -\n",
        "        abs(df[\"Base_Price\"] - df[\"Competitor_Price\"]) * 0.05\n",
        "    )\n",
        "    min_score, max_score = df[\"Loyalty_Score\"].min(), df[\"Loyalty_Score\"].max()\n",
        "    df[\"Loyalty_Score\"] = ((df[\"Loyalty_Score\"] - min_score) / (max_score - min_score)) * 100\n",
        "    return df\n",
        "\n",
        "df = compute_loyalty(df)\n",
        "df[\"Churn_Label\"] = (df[\"Churn_Probability\"] > 0.5).astype(int)\n"
      ]
    },
    {
      "cell_type": "code",
      "execution_count": null,
      "metadata": {
        "colab": {
          "base_uri": "https://localhost:8080/"
        },
        "id": "TbpuHxog5El8",
        "outputId": "603ac04e-0e9c-47cc-c2d4-53694dc8fdc0"
      },
      "outputs": [
        {
          "name": "stderr",
          "output_type": "stream",
          "text": [
            "/usr/local/lib/python3.11/dist-packages/xgboost/training.py:183: UserWarning: [09:53:51] WARNING: /workspace/src/learner.cc:738: \n",
            "Parameters: { \"use_label_encoder\" } are not used.\n",
            "\n",
            "  bst.update(dtrain, iteration=i, fobj=obj)\n"
          ]
        },
        {
          "data": {
            "text/plain": [
              "['best_churn_model.joblib']"
            ]
          },
          "execution_count": 40,
          "metadata": {},
          "output_type": "execute_result"
        }
      ],
      "source": [
        "features = [\"Sales_Quantity\", \"Inventory_Level\", \"Base_Price\",\n",
        "            \"Competitor_Price\", \"Reward_Points\", \"Loyalty_Score\"]\n",
        "\n",
        "X, y = df[features], df[\"Churn_Label\"]\n",
        "X_train, X_test, y_train, y_test = train_test_split(X, y, stratify=y, test_size=0.2, random_state=42)\n",
        "X_train_res, y_train_res = SMOTE(random_state=42).fit_resample(X_train, y_train)\n",
        "\n",
        "xgb_clf = xgb.XGBClassifier(use_label_encoder=False, eval_metric=\"auc\", random_state=42)\n",
        "xgb_clf.fit(X_train_res, y_train_res)\n",
        "joblib.dump(xgb_clf, \"best_churn_model.joblib\")\n"
      ]
    },
    {
      "cell_type": "code",
      "execution_count": null,
      "metadata": {
        "id": "pj9-ydyg5Nm-"
      },
      "outputs": [],
      "source": [
        "def generate_data_context(df, limit=20):\n",
        "    numeric_desc = df.describe(include='number').round(2).to_string()\n",
        "    category_counts = df['Location_ID'].value_counts().head(5).to_dict()\n",
        "    category_text = \", \".join([f\"{k}: {v} distributors\" for k, v in category_counts.items()])\n",
        "\n",
        "    sample_rows = df.sample(n=min(limit, len(df)), random_state=42).to_dict(\"records\")\n",
        "    row_texts = []\n",
        "    for r in sample_rows:\n",
        "        row_texts.append(\n",
        "            f\"{r['Distributor_ID']} at {r['Location_ID']} → Sales: {r['Sales_Quantity']}, \"\n",
        "            f\"Inventory: {r['Inventory_Level']}, Base ₹{r['Base_Price']}, Competitor ₹{r['Competitor_Price']}, \"\n",
        "            f\"Reward: {r['Reward_Points']}, Churn: {r['Churn_Probability']:.2f}, Loyalty: {r['Loyalty_Score']:.2f}\"\n",
        "        )\n",
        "\n",
        "    return f\"\"\"[DATA SUMMARY]\n",
        "Top Locations: {category_text}\n",
        "Numeric Summary:\\n{numeric_desc}\n",
        "\n",
        "[Sample Records]\n",
        "\"\"\" + \"\\n\".join(row_texts)\n"
      ]
    },
    {
      "cell_type": "code",
      "execution_count": null,
      "metadata": {
        "id": "2bKTQFKn5QnX"
      },
      "outputs": [],
      "source": [
        "os.environ[\"GROQ_API_KEY\"] = #enter your groq key in double quotes (https://console.groq.com/keys)\n",
        "GROQ_API_KEY = os.getenv(\"GROQ_API_KEY\")\n",
        "\n",
        "headers = {\n",
        "    \"Authorization\": f\"Bearer {GROQ_API_KEY}\",\n",
        "    \"Content-Type\": \"application/json\"\n",
        "}\n",
        "groq_url = \"https://api.groq.com/openai/v1/chat/completions\"\n"
      ]
    },
    {
      "cell_type": "code",
      "execution_count": null,
      "metadata": {
        "id": "EES7eZ5S5TWN"
      },
      "outputs": [],
      "source": [
        "def ask_groq_llama(question, context_text):\n",
        "    payload = {\n",
        "        \"model\": \"llama3-8b-8192\",\n",
        "        \"messages\": [\n",
        "            {\"role\": \"system\", \"content\": \"You are an intelligent assistant that answers any question about a distributor dataset. Use the data context provided to reason, summarize, and explain clearly.\"},\n",
        "            {\"role\": \"user\", \"content\": f\"{context_text}\\n\\nQuestion: {question}\"}\n",
        "        ],\n",
        "        \"temperature\": 0.5\n",
        "    }\n",
        "    try:\n",
        "        res = requests.post(groq_url, headers=headers, json=payload)\n",
        "        res.raise_for_status()\n",
        "        return res.json()[\"choices\"][0][\"message\"][\"content\"]\n",
        "    except Exception as e:\n",
        "        return f\"LLM Error: {str(e)}\"\n"
      ]
    },
    {
      "cell_type": "code",
      "execution_count": null,
      "metadata": {
        "colab": {
          "base_uri": "https://localhost:8080/"
        },
        "id": "DpaFV4Xp5W2d",
        "outputId": "91976c46-e83c-47eb-c41b-7af873e7267b"
      },
      "outputs": [
        {
          "name": "stdout",
          "output_type": "stream",
          "text": [
            "🤖 Loyalty Testing Bot (LLM-Driven) Ready! Ask anything. Type 'exit' to quit.\n",
            "\n",
            "You: top loyal distributors\n",
            "Bot: Based on the provided data, I can help you identify the top loyal distributors. To do this, I'll sort the data by the \"Loyalty_Score\" column in descending order (highest to lowest) and then select the top n distributors.\n",
            "\n",
            "Since there's no specific value for \"n\" provided, I'll assume you want to see the top 5 loyal distributors. Here are the results:\n",
            "\n",
            "**Top 5 Loyal Distributors:**\n",
            "\n",
            "1. DIST_8 at LOC_36 → Loyalty Score: 78.38\n",
            "2. DIST_162 at LOC_8 → Loyalty Score: 61.52\n",
            "3. DIST_8 at LOC_56 → Loyalty Score: 67.32\n",
            "4. DIST_87 at LOC_94 → Loyalty Score: 61.80\n",
            "5. DIST_337 at LOC_33 → Loyalty Score: 64.14\n",
            "\n",
            "These distributors have the highest loyalty scores, indicating that they have consistently demonstrated high levels of loyalty to the brand.\n",
            "--------------------------------------------------\n",
            "You: exit\n",
            "Bot: See you next time! 👋\n"
          ]
        }
      ],
      "source": [
        "print(\"🤖 Loyalty Testing Bot (LLM-Driven) Ready! Ask anything. Type 'exit' to quit.\\n\")\n",
        "model = joblib.load(\"best_churn_model.joblib\")\n",
        "\n",
        "while True:\n",
        "    q = input(\"You: \").strip()\n",
        "    if q.lower() in [\"exit\", \"quit\"]:\n",
        "        print(\"Bot: See you next time! 👋\")\n",
        "        break\n",
        "\n",
        "    # Optional: Inject prediction if user asks\n",
        "    if \"churn\" in q.lower() and \"DIST_\" in q:\n",
        "        dist_id = [w for w in q.split() if w.startswith(\"DIST_\")][0]\n",
        "        rec = df[df[\"Distributor_ID\"] == dist_id]\n",
        "        if not rec.empty:\n",
        "            X_rec = rec[features]\n",
        "            prob = model.predict_proba(X_rec)[:, 1][0]\n",
        "            print(f\"Bot: Predicted churn probability for {dist_id} is {prob:.2f}\")\n",
        "            continue\n",
        "\n",
        "    context_text = generate_data_context(df)\n",
        "    print(\"Bot:\", ask_groq_llama(q, context_text))\n",
        "    print(\"-\" * 50)\n"
      ]
    }
  ],
  "metadata": {
    "colab": {
      "provenance": []
    },
    "kernelspec": {
      "display_name": "Python 3",
      "name": "python3"
    },
    "language_info": {
      "name": "python"
    }
  },
  "nbformat": 4,
  "nbformat_minor": 0
}
